{
 "cells": [
  {
   "cell_type": "code",
   "execution_count": 1,
   "metadata": {},
   "outputs": [
    {
     "name": "stdout",
     "output_type": "stream",
     "text": [
      "Once deleted, variables cannot be recovered. Proceed (y/[n])? n\n",
      "Nothing done.\n"
     ]
    }
   ],
   "source": [
    "reset"
   ]
  },
  {
   "cell_type": "code",
   "execution_count": 1,
   "metadata": {},
   "outputs": [
    {
     "name": "stderr",
     "output_type": "stream",
     "text": [
      "Using TensorFlow backend.\n"
     ]
    }
   ],
   "source": [
    "import keras.losses\n",
    "import keras.optimizers\n",
    "from keras.models import Sequential, Model\n",
    "from keras.layers import *\n",
    "import tensorflow as tf\n",
    "import numpy as np\n",
    "import matplotlib.pyplot as plt\n",
    "\n",
    "from constants import *"
   ]
  },
  {
   "cell_type": "markdown",
   "metadata": {},
   "source": [
    "# Get data"
   ]
  },
  {
   "cell_type": "code",
   "execution_count": 2,
   "metadata": {},
   "outputs": [],
   "source": [
    "import json\n",
    "import pickle\n",
    "import h5py"
   ]
  },
  {
   "cell_type": "code",
   "execution_count": 3,
   "metadata": {},
   "outputs": [],
   "source": [
    "# open data files\n",
    "hf_train = h5py.File('data/train_data.h5', 'r')\n",
    "hf_test = h5py.File('data/test_data.h5', 'r')"
   ]
  },
  {
   "cell_type": "code",
   "execution_count": 4,
   "metadata": {},
   "outputs": [],
   "source": [
    "im_train = hf_train.get('im_train')\n",
    "q_train = hf_train.get('q_train')\n",
    "bow_q_train = hf_train.get('bow_q_train')\n",
    "y_train = hf_train.get('y_train')\n",
    "\n",
    "im_test = hf_test.get('im_test')\n",
    "q_test = hf_test.get('q_test')\n",
    "bow_q_test = hf_test.get('bow_q_test')\n",
    "y_test = hf_test.get('y_test')\n",
    "\n",
    "# create small subset of test data\n",
    "im_val = im_test[:1000,:].astype('float32')\n",
    "q_val = q_test[:1000,:].astype('float32')\n",
    "bow_q_val = bow_q_test[:1000,:].astype('float32')\n",
    "y_val = y_test[:1000].astype('float32')"
   ]
  },
  {
   "cell_type": "markdown",
   "metadata": {},
   "source": [
    "# Create models"
   ]
  },
  {
   "cell_type": "markdown",
   "metadata": {},
   "source": [
    "## LSTM Q + I"
   ]
  },
  {
   "cell_type": "code",
   "execution_count": 23,
   "metadata": {},
   "outputs": [],
   "source": [
    "# define the tensors for the two inputs\n",
    "q_input_shape = (MAX_Q_LEN, WORD_EMBED_DIM)\n",
    "im_input_shape = (2048,)\n",
    "\n",
    "q_input = Input(q_input_shape)\n",
    "im_input = Input(im_input_shape)"
   ]
  },
  {
   "cell_type": "code",
   "execution_count": 24,
   "metadata": {},
   "outputs": [
    {
     "name": "stdout",
     "output_type": "stream",
     "text": [
      "Model: \"sequential_7\"\n",
      "_________________________________________________________________\n",
      "Layer (type)                 Output Shape              Param #   \n",
      "=================================================================\n",
      "lstm_4 (LSTM)                (None, 512)               1071104   \n",
      "_________________________________________________________________\n",
      "dropout_6 (Dropout)          (None, 512)               0         \n",
      "_________________________________________________________________\n",
      "dense_13 (Dense)             (None, 1024)              525312    \n",
      "=================================================================\n",
      "Total params: 1,596,416\n",
      "Trainable params: 1,596,416\n",
      "Non-trainable params: 0\n",
      "_________________________________________________________________\n",
      "Model: \"sequential_8\"\n",
      "_________________________________________________________________\n",
      "Layer (type)                 Output Shape              Param #   \n",
      "=================================================================\n",
      "dense_14 (Dense)             (None, 1024)              2098176   \n",
      "=================================================================\n",
      "Total params: 2,098,176\n",
      "Trainable params: 2,098,176\n",
      "Non-trainable params: 0\n",
      "_________________________________________________________________\n",
      "Model: \"model_4\"\n",
      "__________________________________________________________________________________________________\n",
      "Layer (type)                    Output Shape         Param #     Connected to                     \n",
      "==================================================================================================\n",
      "input_5 (InputLayer)            (None, 22, 10)       0                                            \n",
      "__________________________________________________________________________________________________\n",
      "input_6 (InputLayer)            (None, 2048)         0                                            \n",
      "__________________________________________________________________________________________________\n",
      "sequential_7 (Sequential)       (None, 1024)         1596416     input_5[0][0]                    \n",
      "__________________________________________________________________________________________________\n",
      "sequential_8 (Sequential)       (None, 1024)         2098176     input_6[0][0]                    \n",
      "__________________________________________________________________________________________________\n",
      "multiply_3 (Multiply)           (None, 1024)         0           sequential_7[1][0]               \n",
      "                                                                 sequential_8[1][0]               \n",
      "__________________________________________________________________________________________________\n",
      "dense_15 (Dense)                (None, 1024)         1049600     multiply_3[0][0]                 \n",
      "__________________________________________________________________________________________________\n",
      "dropout_7 (Dropout)             (None, 1024)         0           dense_15[0][0]                   \n",
      "__________________________________________________________________________________________________\n",
      "dense_16 (Dense)                (None, 1001)         1026025     dropout_7[0][0]                  \n",
      "==================================================================================================\n",
      "Total params: 5,770,217\n",
      "Trainable params: 5,770,217\n",
      "Non-trainable params: 0\n",
      "__________________________________________________________________________________________________\n"
     ]
    }
   ],
   "source": [
    "# LSTM Q\n",
    "q_model = Sequential([\n",
    "  LSTM(512, input_shape=q_input_shape),\n",
    "  Dropout(0.2),\n",
    "  Dense(1024, activation='tanh')\n",
    "])\n",
    "\n",
    "q_model.compile(loss='categorical_crossentropy', \n",
    "              optimizer='adam', \n",
    "              metrics=['categorical_accuracy'])\n",
    "q_model.summary()\n",
    "\n",
    "# I\n",
    "im_model = Sequential([\n",
    "  Dense(1024, input_shape=im_input_shape, activation='relu')\n",
    "])\n",
    "\n",
    "im_model.compile(loss='categorical_crossentropy', \n",
    "              optimizer='adam', \n",
    "              metrics=['categorical_accuracy'])\n",
    "im_model.summary()\n",
    "\n",
    "# LSTM Q + I\n",
    "encoded_q = q_model(q_input) # encodings for the question and image\n",
    "encoded_im = im_model(im_input)\n",
    "    \n",
    "# add a customized layer to compute element-wise multiplication \n",
    "# between question and image vector\n",
    "merge_layer = Multiply()([encoded_q, encoded_im])\n",
    "dense = Dense(1024, activation='relu')(merge_layer)\n",
    "dropout = Dropout(0.2)(dense)\n",
    "prediction = Dense(1001, activation='softmax')(dropout)\n",
    "\n",
    "RMSprop = keras.optimizers.RMSprop(learning_rate=0.001, rho=0.9)\n",
    "model_a = Model(inputs=[q_input, im_input], outputs=prediction)\n",
    "model_a.compile(optimizer=RMSprop,  # optimizer\n",
    "              loss=keras.losses.SparseCategoricalCrossentropy(),\n",
    "              metrics=['sparse_categorical_accuracy'])\n",
    "model_a.summary()"
   ]
  },
  {
   "cell_type": "markdown",
   "metadata": {},
   "source": [
    "#### Train model"
   ]
  },
  {
   "cell_type": "code",
   "execution_count": 80,
   "metadata": {},
   "outputs": [
    {
     "name": "stdout",
     "output_type": "stream",
     "text": [
      "Train on 443757 samples, validate on 1000 samples\n",
      "Epoch 1/5\n",
      "443757/443757 [==============================] - 92s 207us/step - loss: 1.6289 - sparse_categorical_accuracy: 0.4887 - val_loss: 1.6396 - val_sparse_categorical_accuracy: 0.4640\n",
      "Epoch 2/5\n",
      "443757/443757 [==============================] - 92s 208us/step - loss: 1.6146 - sparse_categorical_accuracy: 0.4923 - val_loss: 1.7178 - val_sparse_categorical_accuracy: 0.4930\n",
      "Epoch 3/5\n",
      "443757/443757 [==============================] - 92s 208us/step - loss: 1.5989 - sparse_categorical_accuracy: 0.4953 - val_loss: 1.6705 - val_sparse_categorical_accuracy: 0.4710\n",
      "Epoch 4/5\n",
      "443757/443757 [==============================] - 92s 208us/step - loss: 1.5854 - sparse_categorical_accuracy: 0.4982 - val_loss: 1.6490 - val_sparse_categorical_accuracy: 0.4870\n",
      "Epoch 5/5\n",
      "443757/443757 [==============================] - 92s 208us/step - loss: 1.5749 - sparse_categorical_accuracy: 0.5007 - val_loss: 1.6986 - val_sparse_categorical_accuracy: 0.4830\n"
     ]
    }
   ],
   "source": [
    "history_a = model_a.fit([q_train, im_train], y_train,\n",
    "                    batch_size=512,\n",
    "                    epochs=5,\n",
    "                    shuffle='batch',\n",
    "                    validation_data=([q_val, im_val], y_val))"
   ]
  },
  {
   "cell_type": "code",
   "execution_count": 11,
   "metadata": {},
   "outputs": [],
   "source": [
    "model_a = keras.models.load_model('models/LSTMQ_I.h5')"
   ]
  },
  {
   "cell_type": "markdown",
   "metadata": {},
   "source": [
    "#### Evaluate model"
   ]
  },
  {
   "cell_type": "code",
   "execution_count": 12,
   "metadata": {},
   "outputs": [
    {
     "name": "stdout",
     "output_type": "stream",
     "text": [
      "214354/214354 [==============================] - 45s 212us/step\n",
      "test loss, test acc: [1.7779347890647552, 0.4836765229701996]\n"
     ]
    }
   ],
   "source": [
    "results = model_a.evaluate([q_test, im_test], y_test, batch_size=128)\n",
    "print('test loss, test acc:', results)"
   ]
  },
  {
   "cell_type": "code",
   "execution_count": 36,
   "metadata": {},
   "outputs": [
    {
     "name": "stdout",
     "output_type": "stream",
     "text": [
      "214354/214354 [==============================] - 58s 271us/step\n"
     ]
    }
   ],
   "source": [
    "predictions_a = model_a.predict([q_test, im_test], verbose=1)\n",
    "\n",
    "predict_a = np.argmax(predictions_a, axis=1)\n",
    "np.savetxt('predictions/predict_a.dat', predict_a)"
   ]
  },
  {
   "cell_type": "code",
   "execution_count": 61,
   "metadata": {},
   "outputs": [
    {
     "name": "stdout",
     "output_type": "stream",
     "text": [
      "[ 0 39 45 ...  0 23  1]\n"
     ]
    }
   ],
   "source": [
    "print(predict_a)"
   ]
  },
  {
   "cell_type": "markdown",
   "metadata": {},
   "source": [
    "#### Analysis of results"
   ]
  },
  {
   "cell_type": "code",
   "execution_count": 83,
   "metadata": {},
   "outputs": [
    {
     "data": {
      "image/png": "[encoded data removed]",
      "text/plain": [
       "<Figure size 432x288 with 1 Axes>"
      ]
     },
     "metadata": {
      "needs_background": "light"
     },
     "output_type": "display_data"
    },
    {
     "data": {
      "image/png": "[encoded data removed]",
      "text/plain": [
       "<Figure size 432x288 with 1 Axes>"
      ]
     },
     "metadata": {
      "needs_background": "light"
     },
     "output_type": "display_data"
    }
   ],
   "source": [
    "# plot training & validation accuracy values\n",
    "plt.plot(history_a.history['sparse_categorical_accuracy'])\n",
    "plt.title('Model accuracy')\n",
    "plt.ylabel('Accuracy')\n",
    "plt.xlabel('Epoch')\n",
    "plt.legend(['Train', 'Test'], loc='upper left')\n",
    "plt.show()\n",
    "\n",
    "# plot training & validation loss values\n",
    "plt.plot(history_a.history['loss'])\n",
    "plt.plot(history_a.history['val_loss'])\n",
    "plt.title('Model loss')\n",
    "plt.ylabel('Loss')\n",
    "plt.xlabel('Epoch')\n",
    "plt.legend(['Train', 'Test'], loc='upper left')\n",
    "plt.show()"
   ]
  },
  {
   "cell_type": "markdown",
   "metadata": {},
   "source": [
    "## deeper LSTM Q + I"
   ]
  },
  {
   "cell_type": "code",
   "execution_count": 26,
   "metadata": {},
   "outputs": [
    {
     "name": "stdout",
     "output_type": "stream",
     "text": [
      "Model: \"sequential_9\"\n",
      "_________________________________________________________________\n",
      "Layer (type)                 Output Shape              Param #   \n",
      "=================================================================\n",
      "lstm_5 (LSTM)                (None, 22, 512)           1071104   \n",
      "_________________________________________________________________\n",
      "dropout_8 (Dropout)          (None, 22, 512)           0         \n",
      "_________________________________________________________________\n",
      "lstm_6 (LSTM)                (None, 512)               2099200   \n",
      "_________________________________________________________________\n",
      "dense_17 (Dense)             (None, 1024)              525312    \n",
      "=================================================================\n",
      "Total params: 3,695,616\n",
      "Trainable params: 3,695,616\n",
      "Non-trainable params: 0\n",
      "_________________________________________________________________\n",
      "Model: \"sequential_10\"\n",
      "_________________________________________________________________\n",
      "Layer (type)                 Output Shape              Param #   \n",
      "=================================================================\n",
      "dense_18 (Dense)             (None, 1024)              2098176   \n",
      "=================================================================\n",
      "Total params: 2,098,176\n",
      "Trainable params: 2,098,176\n",
      "Non-trainable params: 0\n",
      "_________________________________________________________________\n",
      "Model: \"model_5\"\n",
      "__________________________________________________________________________________________________\n",
      "Layer (type)                    Output Shape         Param #     Connected to                     \n",
      "==================================================================================================\n",
      "input_5 (InputLayer)            (None, 22, 10)       0                                            \n",
      "__________________________________________________________________________________________________\n",
      "input_6 (InputLayer)            (None, 2048)         0                                            \n",
      "__________________________________________________________________________________________________\n",
      "sequential_9 (Sequential)       (None, 1024)         3695616     input_5[0][0]                    \n",
      "__________________________________________________________________________________________________\n",
      "sequential_10 (Sequential)      (None, 1024)         2098176     input_6[0][0]                    \n",
      "__________________________________________________________________________________________________\n",
      "multiply_4 (Multiply)           (None, 1024)         0           sequential_9[1][0]               \n",
      "                                                                 sequential_10[1][0]              \n",
      "__________________________________________________________________________________________________\n",
      "dense_19 (Dense)                (None, 1024)         1049600     multiply_4[0][0]                 \n",
      "__________________________________________________________________________________________________\n",
      "dropout_9 (Dropout)             (None, 1024)         0           dense_19[0][0]                   \n",
      "__________________________________________________________________________________________________\n",
      "dense_20 (Dense)                (None, 1001)         1026025     dropout_9[0][0]                  \n",
      "==================================================================================================\n",
      "Total params: 7,869,417\n",
      "Trainable params: 7,869,417\n",
      "Non-trainable params: 0\n",
      "__________________________________________________________________________________________________\n"
     ]
    }
   ],
   "source": [
    "# deeper LSTM Q\n",
    "q_model = Sequential([\n",
    "  LSTM(512, return_sequences=True, input_shape=q_input_shape),\n",
    "  Dropout(0.2),\n",
    "  LSTM(512, return_sequences=False),\n",
    "  Dense(1024, activation='tanh')\n",
    "])\n",
    "\n",
    "q_model.compile(loss='categorical_crossentropy', \n",
    "              optimizer='adam', \n",
    "              metrics=['categorical_accuracy'])\n",
    "q_model.summary()\n",
    "\n",
    "# I\n",
    "im_model = Sequential([\n",
    "  Dense(1024, input_shape=im_input_shape, activation='relu')\n",
    "])\n",
    "\n",
    "im_model.compile(loss='categorical_crossentropy', \n",
    "              optimizer='adam', \n",
    "              metrics=['categorical_accuracy'])\n",
    "im_model.summary()\n",
    "\n",
    "# deeper LSTM Q + I\n",
    "encoded_q = q_model(q_input) # encodings for the question and image\n",
    "encoded_im = im_model(im_input)\n",
    "    \n",
    "# add a customized layer to compute element-wise multiplication \n",
    "# between question and image vector\n",
    "merge_layer = Multiply()([encoded_q, encoded_im])\n",
    "dense = Dense(1024, activation='relu')(merge_layer)\n",
    "dropout = Dropout(0.2)(dense)\n",
    "prediction = Dense(1001, activation='softmax')(dropout)\n",
    "\n",
    "RMSprop = keras.optimizers.RMSprop(learning_rate=0.001, rho=0.9)\n",
    "model_b = Model(inputs=[q_input, im_input], outputs=prediction)\n",
    "model_b.compile(optimizer=RMSprop,  # optimizer\n",
    "              loss=keras.losses.SparseCategoricalCrossentropy(),\n",
    "              metrics=['sparse_categorical_accuracy'])\n",
    "model_b.summary()"
   ]
  },
  {
   "cell_type": "code",
   "execution_count": 84,
   "metadata": {},
   "outputs": [
    {
     "name": "stdout",
     "output_type": "stream",
     "text": [
      "Train on 443757 samples, validate on 1000 samples\n",
      "Epoch 1/5\n",
      "443757/443757 [==============================] - 199s 449us/step - loss: 1.6854 - sparse_categorical_accuracy: 0.4758 - val_loss: 1.6961 - val_sparse_categorical_accuracy: 0.4750\n",
      "Epoch 2/5\n",
      "443757/443757 [==============================] - 198s 446us/step - loss: 1.6675 - sparse_categorical_accuracy: 0.4802 - val_loss: 1.6552 - val_sparse_categorical_accuracy: 0.4770\n",
      "Epoch 3/5\n",
      "443757/443757 [==============================] - 198s 447us/step - loss: 1.6490 - sparse_categorical_accuracy: 0.4823 - val_loss: 1.6300 - val_sparse_categorical_accuracy: 0.4700\n",
      "Epoch 4/5\n",
      "443757/443757 [==============================] - 196s 442us/step - loss: 1.6314 - sparse_categorical_accuracy: 0.4870 - val_loss: 1.6858 - val_sparse_categorical_accuracy: 0.4740\n",
      "Epoch 5/5\n",
      "443757/443757 [==============================] - 198s 445us/step - loss: 1.6175 - sparse_categorical_accuracy: 0.4897 - val_loss: 1.6463 - val_sparse_categorical_accuracy: 0.4680\n"
     ]
    }
   ],
   "source": [
    "history_b = model_b.fit([q_train, im_train], y_train,\n",
    "                    batch_size=512,\n",
    "                    epochs=5,\n",
    "                    shuffle='batch',\n",
    "                    validation_data=([q_val, im_val], y_val))"
   ]
  },
  {
   "cell_type": "code",
   "execution_count": 33,
   "metadata": {},
   "outputs": [],
   "source": [
    "# model_b.save('data/deeperLSTMQ_I.h5')\n",
    "model_b = keras.models.load_model('models/deeperLSTMQ_I.h5')"
   ]
  },
  {
   "cell_type": "code",
   "execution_count": 86,
   "metadata": {},
   "outputs": [
    {
     "name": "stdout",
     "output_type": "stream",
     "text": [
      "214354/214354 [==============================] - 47s 220us/step\n",
      "test loss, test acc: [1.7301265623487248, 0.4787501096725464]\n"
     ]
    }
   ],
   "source": [
    "results = model_b.evaluate([q_test, im_test], y_test, batch_size=128)\n",
    "print('test loss, test acc:', results)"
   ]
  },
  {
   "cell_type": "code",
   "execution_count": 35,
   "metadata": {},
   "outputs": [
    {
     "name": "stdout",
     "output_type": "stream",
     "text": [
      "214354/214354 [==============================] - 111s 520us/step\n"
     ]
    }
   ],
   "source": [
    "predictions_b = model_b.predict([q_test, im_test], verbose=1)\n",
    "\n",
    "predict_b = np.argmax(predictions_b, axis=1)\n",
    "np.savetxt('predictions/predict_b.dat', predict_b)"
   ]
  },
  {
   "cell_type": "code",
   "execution_count": 60,
   "metadata": {},
   "outputs": [
    {
     "name": "stdout",
     "output_type": "stream",
     "text": [
      "[ 0 39 45 ...  0 22  2]\n"
     ]
    }
   ],
   "source": [
    "print(predict_b)"
   ]
  },
  {
   "cell_type": "code",
   "execution_count": 87,
   "metadata": {},
   "outputs": [
    {
     "data": {
      "image/png": "[encoded data removed]",
      "text/plain": [
       "<Figure size 432x288 with 1 Axes>"
      ]
     },
     "metadata": {
      "needs_background": "light"
     },
     "output_type": "display_data"
    },
    {
     "data": {
      "image/png": "[encoded data removed]",
      "text/plain": [
       "<Figure size 432x288 with 1 Axes>"
      ]
     },
     "metadata": {
      "needs_background": "light"
     },
     "output_type": "display_data"
    }
   ],
   "source": [
    "# plot training & validation accuracy values\n",
    "plt.plot(history_b.history['sparse_categorical_accuracy'])\n",
    "plt.title('Model accuracy')\n",
    "plt.ylabel('Accuracy')\n",
    "plt.xlabel('Epoch')\n",
    "plt.legend(['Train', 'Test'], loc='upper left')\n",
    "plt.show()\n",
    "\n",
    "# plot training & validation loss values\n",
    "plt.plot(history_b.history['loss'])\n",
    "plt.plot(history_b.history['val_loss'])\n",
    "plt.title('Model loss')\n",
    "plt.ylabel('Loss')\n",
    "plt.xlabel('Epoch')\n",
    "plt.legend(['Train', 'Test'], loc='upper left')\n",
    "plt.show()"
   ]
  },
  {
   "cell_type": "markdown",
   "metadata": {},
   "source": [
    "## LSTM Q concat I"
   ]
  },
  {
   "cell_type": "code",
   "execution_count": 28,
   "metadata": {},
   "outputs": [
    {
     "name": "stdout",
     "output_type": "stream",
     "text": [
      "Model: \"sequential_11\"\n",
      "_________________________________________________________________\n",
      "Layer (type)                 Output Shape              Param #   \n",
      "=================================================================\n",
      "lstm_7 (LSTM)                (None, 512)               1071104   \n",
      "_________________________________________________________________\n",
      "dropout_10 (Dropout)         (None, 512)               0         \n",
      "_________________________________________________________________\n",
      "dense_21 (Dense)             (None, 512)               262656    \n",
      "=================================================================\n",
      "Total params: 1,333,760\n",
      "Trainable params: 1,333,760\n",
      "Non-trainable params: 0\n",
      "_________________________________________________________________\n",
      "Model: \"sequential_12\"\n",
      "_________________________________________________________________\n",
      "Layer (type)                 Output Shape              Param #   \n",
      "=================================================================\n",
      "dense_22 (Dense)             (None, 512)               1049088   \n",
      "=================================================================\n",
      "Total params: 1,049,088\n",
      "Trainable params: 1,049,088\n",
      "Non-trainable params: 0\n",
      "_________________________________________________________________\n",
      "Model: \"model_6\"\n",
      "__________________________________________________________________________________________________\n",
      "Layer (type)                    Output Shape         Param #     Connected to                     \n",
      "==================================================================================================\n",
      "input_5 (InputLayer)            (None, 22, 10)       0                                            \n",
      "__________________________________________________________________________________________________\n",
      "input_6 (InputLayer)            (None, 2048)         0                                            \n",
      "__________________________________________________________________________________________________\n",
      "sequential_11 (Sequential)      (None, 512)          1333760     input_5[0][0]                    \n",
      "__________________________________________________________________________________________________\n",
      "sequential_12 (Sequential)      (None, 512)          1049088     input_6[0][0]                    \n",
      "__________________________________________________________________________________________________\n",
      "concatenate_2 (Concatenate)     (None, 1024)         0           sequential_11[1][0]              \n",
      "                                                                 sequential_12[1][0]              \n",
      "__________________________________________________________________________________________________\n",
      "dense_23 (Dense)                (None, 1024)         1049600     concatenate_2[0][0]              \n",
      "__________________________________________________________________________________________________\n",
      "dropout_11 (Dropout)            (None, 1024)         0           dense_23[0][0]                   \n",
      "__________________________________________________________________________________________________\n",
      "dense_24 (Dense)                (None, 1001)         1026025     dropout_11[0][0]                 \n",
      "==================================================================================================\n",
      "Total params: 4,458,473\n",
      "Trainable params: 4,458,473\n",
      "Non-trainable params: 0\n",
      "__________________________________________________________________________________________________\n"
     ]
    }
   ],
   "source": [
    "# LSTM Q\n",
    "q_model = Sequential([\n",
    "  LSTM(512, input_shape=q_input_shape),\n",
    "  Dropout(0.2),\n",
    "  Dense(512, activation='tanh')\n",
    "])\n",
    "\n",
    "q_model.compile(loss='categorical_crossentropy', \n",
    "              optimizer='adam', \n",
    "              metrics=['categorical_accuracy'])\n",
    "q_model.summary()\n",
    "\n",
    "# I\n",
    "im_model = Sequential([\n",
    "  Dense(512, input_shape=im_input_shape, activation='relu')\n",
    "])\n",
    "\n",
    "im_model.compile(loss='categorical_crossentropy', \n",
    "              optimizer='adam', \n",
    "              metrics=['categorical_accuracy'])\n",
    "im_model.summary()\n",
    "\n",
    "# LSTM Q + I\n",
    "encoded_q = q_model(q_input) # encodings for the question and image\n",
    "encoded_im = im_model(im_input)\n",
    "    \n",
    "# add a customized layer to compute element-wise multiplication \n",
    "# between question and image vector\n",
    "merge_layer = Concatenate()([encoded_q, encoded_im])\n",
    "dense = Dense(1024, activation='relu')(merge_layer)\n",
    "dropout = Dropout(0.2)(dense)\n",
    "prediction = Dense(1001, activation='softmax')(dropout)\n",
    "\n",
    "RMSprop = keras.optimizers.RMSprop(learning_rate=0.001, rho=0.9)\n",
    "model_c = Model(inputs=[q_input, im_input], outputs=prediction)\n",
    "model_c.compile(optimizer=RMSprop,  # optimizer\n",
    "              loss=keras.losses.SparseCategoricalCrossentropy(),\n",
    "              metrics=['sparse_categorical_accuracy'])\n",
    "model_c.summary()"
   ]
  },
  {
   "cell_type": "code",
   "execution_count": 46,
   "metadata": {},
   "outputs": [
    {
     "name": "stdout",
     "output_type": "stream",
     "text": [
      "Train on 443757 samples, validate on 1000 samples\n",
      "Epoch 1/10\n",
      "443757/443757 [==============================] - 313s 704us/step - loss: 1.8837 - sparse_categorical_accuracy: 0.4386 - val_loss: 1.7970 - val_sparse_categorical_accuracy: 0.4490\n",
      "Epoch 2/10\n",
      "443757/443757 [==============================] - 92s 206us/step - loss: 1.8617 - sparse_categorical_accuracy: 0.4440 - val_loss: 1.7781 - val_sparse_categorical_accuracy: 0.4410\n",
      "Epoch 3/10\n",
      "443757/443757 [==============================] - 92s 207us/step - loss: 1.8447 - sparse_categorical_accuracy: 0.4449 - val_loss: 1.7862 - val_sparse_categorical_accuracy: 0.4270\n",
      "Epoch 4/10\n",
      "443757/443757 [==============================] - 91s 206us/step - loss: 1.8333 - sparse_categorical_accuracy: 0.4469 - val_loss: 1.7834 - val_sparse_categorical_accuracy: 0.4390\n",
      "Epoch 5/10\n",
      "443757/443757 [==============================] - 92s 207us/step - loss: 1.8216 - sparse_categorical_accuracy: 0.4490 - val_loss: 1.7968 - val_sparse_categorical_accuracy: 0.4370\n",
      "Epoch 6/10\n",
      "240640/443757 [===============>..............] - ETA: 41s - loss: 1.8118 - sparse_categorical_accuracy: 0.4501"
     ]
    },
    {
     "ename": "KeyboardInterrupt",
     "evalue": "",
     "output_type": "error",
     "traceback": [
      "\u001b[0;31m---------------------------------------------------------------------------\u001b[0m",
      "\u001b[0;31mKeyboardInterrupt\u001b[0m                         Traceback (most recent call last)",
      "\u001b[0;32m<ipython-input-46-cab0645eb257>\u001b[0m in \u001b[0;36m<module>\u001b[0;34m\u001b[0m\n\u001b[1;32m      3\u001b[0m                     \u001b[0mepochs\u001b[0m\u001b[0;34m=\u001b[0m\u001b[0;36m10\u001b[0m\u001b[0;34m,\u001b[0m\u001b[0;34m\u001b[0m\u001b[0;34m\u001b[0m\u001b[0m\n\u001b[1;32m      4\u001b[0m                     \u001b[0mshuffle\u001b[0m\u001b[0;34m=\u001b[0m\u001b[0;34m'batch'\u001b[0m\u001b[0;34m,\u001b[0m\u001b[0;34m\u001b[0m\u001b[0;34m\u001b[0m\u001b[0m\n\u001b[0;32m----> 5\u001b[0;31m                     validation_data=([q_val, im_val], y_val))\n\u001b[0m",
      "\u001b[0;32m/opt/anaconda3/lib/python3.7/site-packages/keras/engine/training.py\u001b[0m in \u001b[0;36mfit\u001b[0;34m(self, x, y, batch_size, epochs, verbose, callbacks, validation_split, validation_data, shuffle, class_weight, sample_weight, initial_epoch, steps_per_epoch, validation_steps, validation_freq, max_queue_size, workers, use_multiprocessing, **kwargs)\u001b[0m\n\u001b[1;32m   1237\u001b[0m                                         \u001b[0msteps_per_epoch\u001b[0m\u001b[0;34m=\u001b[0m\u001b[0msteps_per_epoch\u001b[0m\u001b[0;34m,\u001b[0m\u001b[0;34m\u001b[0m\u001b[0;34m\u001b[0m\u001b[0m\n\u001b[1;32m   1238\u001b[0m                                         \u001b[0mvalidation_steps\u001b[0m\u001b[0;34m=\u001b[0m\u001b[0mvalidation_steps\u001b[0m\u001b[0;34m,\u001b[0m\u001b[0;34m\u001b[0m\u001b[0;34m\u001b[0m\u001b[0m\n\u001b[0;32m-> 1239\u001b[0;31m                                         validation_freq=validation_freq)\n\u001b[0m\u001b[1;32m   1240\u001b[0m \u001b[0;34m\u001b[0m\u001b[0m\n\u001b[1;32m   1241\u001b[0m     def evaluate(self,\n",
      "\u001b[0;32m/opt/anaconda3/lib/python3.7/site-packages/keras/engine/training_arrays.py\u001b[0m in \u001b[0;36mfit_loop\u001b[0;34m(model, fit_function, fit_inputs, out_labels, batch_size, epochs, verbose, callbacks, val_function, val_inputs, shuffle, initial_epoch, steps_per_epoch, validation_steps, validation_freq)\u001b[0m\n\u001b[1;32m    194\u001b[0m                     \u001b[0mins_batch\u001b[0m\u001b[0;34m[\u001b[0m\u001b[0mi\u001b[0m\u001b[0;34m]\u001b[0m \u001b[0;34m=\u001b[0m \u001b[0mins_batch\u001b[0m\u001b[0;34m[\u001b[0m\u001b[0mi\u001b[0m\u001b[0;34m]\u001b[0m\u001b[0;34m.\u001b[0m\u001b[0mtoarray\u001b[0m\u001b[0;34m(\u001b[0m\u001b[0;34m)\u001b[0m\u001b[0;34m\u001b[0m\u001b[0;34m\u001b[0m\u001b[0m\n\u001b[1;32m    195\u001b[0m \u001b[0;34m\u001b[0m\u001b[0m\n\u001b[0;32m--> 196\u001b[0;31m                 \u001b[0mouts\u001b[0m \u001b[0;34m=\u001b[0m \u001b[0mfit_function\u001b[0m\u001b[0;34m(\u001b[0m\u001b[0mins_batch\u001b[0m\u001b[0;34m)\u001b[0m\u001b[0;34m\u001b[0m\u001b[0;34m\u001b[0m\u001b[0m\n\u001b[0m\u001b[1;32m    197\u001b[0m                 \u001b[0mouts\u001b[0m \u001b[0;34m=\u001b[0m \u001b[0mto_list\u001b[0m\u001b[0;34m(\u001b[0m\u001b[0mouts\u001b[0m\u001b[0;34m)\u001b[0m\u001b[0;34m\u001b[0m\u001b[0;34m\u001b[0m\u001b[0m\n\u001b[1;32m    198\u001b[0m                 \u001b[0;32mfor\u001b[0m \u001b[0ml\u001b[0m\u001b[0;34m,\u001b[0m \u001b[0mo\u001b[0m \u001b[0;32min\u001b[0m \u001b[0mzip\u001b[0m\u001b[0;34m(\u001b[0m\u001b[0mout_labels\u001b[0m\u001b[0;34m,\u001b[0m \u001b[0mouts\u001b[0m\u001b[0;34m)\u001b[0m\u001b[0;34m:\u001b[0m\u001b[0;34m\u001b[0m\u001b[0;34m\u001b[0m\u001b[0m\n",
      "\u001b[0;32m/opt/anaconda3/lib/python3.7/site-packages/tensorflow_core/python/keras/backend.py\u001b[0m in \u001b[0;36m__call__\u001b[0;34m(self, inputs)\u001b[0m\n\u001b[1;32m   3733\u001b[0m     return nest.pack_sequence_as(\n\u001b[1;32m   3734\u001b[0m         \u001b[0mself\u001b[0m\u001b[0;34m.\u001b[0m\u001b[0m_outputs_structure\u001b[0m\u001b[0;34m,\u001b[0m\u001b[0;34m\u001b[0m\u001b[0;34m\u001b[0m\u001b[0m\n\u001b[0;32m-> 3735\u001b[0;31m         \u001b[0;34m[\u001b[0m\u001b[0mx\u001b[0m\u001b[0;34m.\u001b[0m\u001b[0m_numpy\u001b[0m\u001b[0;34m(\u001b[0m\u001b[0;34m)\u001b[0m \u001b[0;32mfor\u001b[0m \u001b[0mx\u001b[0m \u001b[0;32min\u001b[0m \u001b[0moutputs\u001b[0m\u001b[0;34m]\u001b[0m\u001b[0;34m,\u001b[0m  \u001b[0;31m# pylint: disable=protected-access\u001b[0m\u001b[0;34m\u001b[0m\u001b[0;34m\u001b[0m\u001b[0m\n\u001b[0m\u001b[1;32m   3736\u001b[0m         expand_composites=True)\n\u001b[1;32m   3737\u001b[0m \u001b[0;34m\u001b[0m\u001b[0m\n",
      "\u001b[0;32m/opt/anaconda3/lib/python3.7/site-packages/tensorflow_core/python/keras/backend.py\u001b[0m in \u001b[0;36m<listcomp>\u001b[0;34m(.0)\u001b[0m\n\u001b[1;32m   3733\u001b[0m     return nest.pack_sequence_as(\n\u001b[1;32m   3734\u001b[0m         \u001b[0mself\u001b[0m\u001b[0;34m.\u001b[0m\u001b[0m_outputs_structure\u001b[0m\u001b[0;34m,\u001b[0m\u001b[0;34m\u001b[0m\u001b[0;34m\u001b[0m\u001b[0m\n\u001b[0;32m-> 3735\u001b[0;31m         \u001b[0;34m[\u001b[0m\u001b[0mx\u001b[0m\u001b[0;34m.\u001b[0m\u001b[0m_numpy\u001b[0m\u001b[0;34m(\u001b[0m\u001b[0;34m)\u001b[0m \u001b[0;32mfor\u001b[0m \u001b[0mx\u001b[0m \u001b[0;32min\u001b[0m \u001b[0moutputs\u001b[0m\u001b[0;34m]\u001b[0m\u001b[0;34m,\u001b[0m  \u001b[0;31m# pylint: disable=protected-access\u001b[0m\u001b[0;34m\u001b[0m\u001b[0;34m\u001b[0m\u001b[0m\n\u001b[0m\u001b[1;32m   3736\u001b[0m         expand_composites=True)\n\u001b[1;32m   3737\u001b[0m \u001b[0;34m\u001b[0m\u001b[0m\n",
      "\u001b[0;32m/opt/anaconda3/lib/python3.7/site-packages/tensorflow_core/python/framework/ops.py\u001b[0m in \u001b[0;36m_numpy\u001b[0;34m(self)\u001b[0m\n\u001b[1;32m    906\u001b[0m     \u001b[0;31m# pylint: disable=protected-access\u001b[0m\u001b[0;34m\u001b[0m\u001b[0;34m\u001b[0m\u001b[0;34m\u001b[0m\u001b[0m\n\u001b[1;32m    907\u001b[0m     \u001b[0;32mtry\u001b[0m\u001b[0;34m:\u001b[0m\u001b[0;34m\u001b[0m\u001b[0;34m\u001b[0m\u001b[0m\n\u001b[0;32m--> 908\u001b[0;31m       \u001b[0;32mreturn\u001b[0m \u001b[0mself\u001b[0m\u001b[0;34m.\u001b[0m\u001b[0m_numpy_internal\u001b[0m\u001b[0;34m(\u001b[0m\u001b[0;34m)\u001b[0m\u001b[0;34m\u001b[0m\u001b[0;34m\u001b[0m\u001b[0m\n\u001b[0m\u001b[1;32m    909\u001b[0m     \u001b[0;32mexcept\u001b[0m \u001b[0mcore\u001b[0m\u001b[0;34m.\u001b[0m\u001b[0m_NotOkStatusException\u001b[0m \u001b[0;32mas\u001b[0m \u001b[0me\u001b[0m\u001b[0;34m:\u001b[0m\u001b[0;34m\u001b[0m\u001b[0;34m\u001b[0m\u001b[0m\n\u001b[1;32m    910\u001b[0m       \u001b[0msix\u001b[0m\u001b[0;34m.\u001b[0m\u001b[0mraise_from\u001b[0m\u001b[0;34m(\u001b[0m\u001b[0mcore\u001b[0m\u001b[0;34m.\u001b[0m\u001b[0m_status_to_exception\u001b[0m\u001b[0;34m(\u001b[0m\u001b[0me\u001b[0m\u001b[0;34m.\u001b[0m\u001b[0mcode\u001b[0m\u001b[0;34m,\u001b[0m \u001b[0me\u001b[0m\u001b[0;34m.\u001b[0m\u001b[0mmessage\u001b[0m\u001b[0;34m)\u001b[0m\u001b[0;34m,\u001b[0m \u001b[0;32mNone\u001b[0m\u001b[0;34m)\u001b[0m\u001b[0;34m\u001b[0m\u001b[0;34m\u001b[0m\u001b[0m\n",
      "\u001b[0;31mKeyboardInterrupt\u001b[0m: "
     ]
    }
   ],
   "source": [
    "history_c = model_c.fit([q_train, im_train], y_train,\n",
    "                    batch_size=512,\n",
    "                    epochs=10,\n",
    "                    shuffle='batch',\n",
    "                    validation_data=([q_val, im_val], y_val))"
   ]
  },
  {
   "cell_type": "code",
   "execution_count": 49,
   "metadata": {},
   "outputs": [],
   "source": [
    "# model_c.save('models/LSTMQ_concatI.h5')\n",
    "model_c = keras.models.load_model('models/LSTMQ_concatI.h5')"
   ]
  },
  {
   "cell_type": "code",
   "execution_count": 50,
   "metadata": {},
   "outputs": [
    {
     "name": "stdout",
     "output_type": "stream",
     "text": [
      "214354/214354 [==============================] - 27s 125us/step\n",
      "test loss, test acc: [1.8590600806386761, 0.4532129168510437]\n"
     ]
    }
   ],
   "source": [
    "results = model_c.evaluate([q_test, im_test], y_test, batch_size=128)\n",
    "print('test loss, test acc:', results)"
   ]
  },
  {
   "cell_type": "code",
   "execution_count": 51,
   "metadata": {},
   "outputs": [
    {
     "name": "stdout",
     "output_type": "stream",
     "text": [
      "214354/214354 [==============================] - 61s 284us/step\n"
     ]
    }
   ],
   "source": [
    "predictions_c = model_c.predict([q_test, im_test], verbose=1)\n",
    "\n",
    "\n",
    "predict_c = np.argmax(predictions_c, axis=1)\n",
    "np.savetxt('predictions/predict_c.dat', predict_c)"
   ]
  },
  {
   "cell_type": "code",
   "execution_count": 59,
   "metadata": {},
   "outputs": [
    {
     "name": "stdout",
     "output_type": "stream",
     "text": [
      "[111  94  45 ...   0  22   1]\n"
     ]
    }
   ],
   "source": [
    "print(predict_c)"
   ]
  },
  {
   "cell_type": "code",
   "execution_count": null,
   "metadata": {},
   "outputs": [],
   "source": [
    "# plot training & validation accuracy values\n",
    "plt.plot(history_c.history['sparse_categorical_accuracy'])\n",
    "plt.title('Model accuracy')\n",
    "plt.ylabel('Accuracy')\n",
    "plt.xlabel('Epoch')\n",
    "plt.legend(['Train', 'Test'], loc='upper left')\n",
    "plt.show()\n",
    "\n",
    "# plot training & validation loss values\n",
    "plt.plot(history_c.history['loss'])\n",
    "plt.plot(history_c.history['val_loss'])\n",
    "plt.title('Model loss')\n",
    "plt.ylabel('Loss')\n",
    "plt.xlabel('Epoch')\n",
    "plt.legend(['Train', 'Test'], loc='upper left')\n",
    "plt.show()"
   ]
  },
  {
   "cell_type": "markdown",
   "metadata": {},
   "source": [
    "## BoW + I"
   ]
  },
  {
   "cell_type": "code",
   "execution_count": null,
   "metadata": {},
   "outputs": [],
   "source": [
    "from preprocessing import *"
   ]
  },
  {
   "cell_type": "code",
   "execution_count": 38,
   "metadata": {},
   "outputs": [
    {
     "name": "stdout",
     "output_type": "stream",
     "text": [
      "Model: \"sequential_1\"\n",
      "_________________________________________________________________\n",
      "Layer (type)                 Output Shape              Param #   \n",
      "=================================================================\n",
      "dense_1 (Dense)              (None, 512)               11776     \n",
      "=================================================================\n",
      "Total params: 11,776\n",
      "Trainable params: 11,776\n",
      "Non-trainable params: 0\n",
      "_________________________________________________________________\n",
      "Model: \"sequential_2\"\n",
      "_________________________________________________________________\n",
      "Layer (type)                 Output Shape              Param #   \n",
      "=================================================================\n",
      "dense_2 (Dense)              (None, 512)               1049088   \n",
      "=================================================================\n",
      "Total params: 1,049,088\n",
      "Trainable params: 1,049,088\n",
      "Non-trainable params: 0\n",
      "_________________________________________________________________\n",
      "Model: \"model_1\"\n",
      "__________________________________________________________________________________________________\n",
      "Layer (type)                    Output Shape         Param #     Connected to                     \n",
      "==================================================================================================\n",
      "input_1 (InputLayer)            (None, 22)           0                                            \n",
      "__________________________________________________________________________________________________\n",
      "input_2 (InputLayer)            (None, 2048)         0                                            \n",
      "__________________________________________________________________________________________________\n",
      "sequential_1 (Sequential)       (None, 512)          11776       input_1[0][0]                    \n",
      "__________________________________________________________________________________________________\n",
      "sequential_2 (Sequential)       (None, 512)          1049088     input_2[0][0]                    \n",
      "__________________________________________________________________________________________________\n",
      "concatenate_1 (Concatenate)     (None, 1024)         0           sequential_1[1][0]               \n",
      "                                                                 sequential_2[1][0]               \n",
      "__________________________________________________________________________________________________\n",
      "dense_3 (Dense)                 (None, 1024)         1049600     concatenate_1[0][0]              \n",
      "__________________________________________________________________________________________________\n",
      "dropout_1 (Dropout)             (None, 1024)         0           dense_3[0][0]                    \n",
      "__________________________________________________________________________________________________\n",
      "dense_4 (Dense)                 (None, 1001)         1026025     dropout_1[0][0]                  \n",
      "==================================================================================================\n",
      "Total params: 3,136,489\n",
      "Trainable params: 3,136,489\n",
      "Non-trainable params: 0\n",
      "__________________________________________________________________________________________________\n"
     ]
    }
   ],
   "source": [
    "# define the tensors for the two inputs\n",
    "q_input_shape = (MAX_Q_LEN,)\n",
    "im_input_shape = (2048,)\n",
    "\n",
    "# BoW\n",
    "q_model = Sequential([\n",
    "  Dense(512, input_shape=q_input_shape, activation='relu')\n",
    "])\n",
    "\n",
    "q_model.compile(loss='categorical_crossentropy', \n",
    "              optimizer='adam', \n",
    "              metrics=['categorical_accuracy'])\n",
    "q_model.summary()\n",
    "\n",
    "# I\n",
    "im_model = Sequential([\n",
    "  Dense(512, input_shape=im_input_shape, activation='relu')\n",
    "])\n",
    "\n",
    "im_model.compile(loss='categorical_crossentropy', \n",
    "              optimizer='adam', \n",
    "              metrics=['accuracy'])\n",
    "im_model.summary()\n",
    "\n",
    "# LSTM Q + I\n",
    "q_input = Input(q_input_shape)\n",
    "im_input = Input(im_input_shape)\n",
    "\n",
    "encoded_q = q_model(q_input) # encodings for the question and image\n",
    "encoded_im = im_model(im_input)\n",
    "    \n",
    "# add a customized layer to compute element-wise multiplication \n",
    "# between question and image vector\n",
    "merge_layer = Concatenate()([encoded_q, encoded_im])\n",
    "dense = Dense(1024, activation='relu')(merge_layer)\n",
    "dropout = Dropout(0.2)(dense)\n",
    "prediction = Dense(1001, activation='softmax')(dropout)\n",
    "\n",
    "RMSprop = keras.optimizers.RMSprop(learning_rate=0.001, rho=0.9)\n",
    "model_d = Model(inputs=[q_input, im_input], outputs=prediction)\n",
    "model_d.compile(optimizer=RMSprop,  # optimizer\n",
    "              loss=keras.losses.SparseCategoricalCrossentropy(),\n",
    "              metrics=['sparse_categorical_accuracy'])\n",
    "model_d.summary()"
   ]
  },
  {
   "cell_type": "code",
   "execution_count": 101,
   "metadata": {},
   "outputs": [
    {
     "name": "stdout",
     "output_type": "stream",
     "text": [
      "Train on 443757 samples, validate on 1000 samples\n",
      "Epoch 1/10\n",
      "443757/443757 [==============================] - 24s 54us/step - loss: 2.9401 - sparse_categorical_accuracy: 0.3241 - val_loss: 2.8672 - val_sparse_categorical_accuracy: 0.3230\n",
      "Epoch 2/10\n",
      "443757/443757 [==============================] - 24s 53us/step - loss: 2.9264 - sparse_categorical_accuracy: 0.3247 - val_loss: 2.7202 - val_sparse_categorical_accuracy: 0.3350\n",
      "Epoch 3/10\n",
      "443757/443757 [==============================] - 24s 55us/step - loss: 2.9084 - sparse_categorical_accuracy: 0.3276 - val_loss: 2.9073 - val_sparse_categorical_accuracy: 0.3370\n",
      "Epoch 4/10\n",
      "443757/443757 [==============================] - 25s 55us/step - loss: 2.9114 - sparse_categorical_accuracy: 0.3281 - val_loss: 2.7904 - val_sparse_categorical_accuracy: 0.3440\n",
      "Epoch 5/10\n",
      "443757/443757 [==============================] - 25s 55us/step - loss: 2.9193 - sparse_categorical_accuracy: 0.3268 - val_loss: 2.8925 - val_sparse_categorical_accuracy: 0.3540\n",
      "Epoch 6/10\n",
      "443757/443757 [==============================] - 24s 55us/step - loss: 2.9237 - sparse_categorical_accuracy: 0.3263 - val_loss: 2.8126 - val_sparse_categorical_accuracy: 0.3500\n",
      "Epoch 7/10\n",
      "443757/443757 [==============================] - 24s 55us/step - loss: 2.9245 - sparse_categorical_accuracy: 0.3268 - val_loss: 2.7022 - val_sparse_categorical_accuracy: 0.3420\n",
      "Epoch 8/10\n",
      "443757/443757 [==============================] - 24s 55us/step - loss: 2.9281 - sparse_categorical_accuracy: 0.3266 - val_loss: 2.7428 - val_sparse_categorical_accuracy: 0.3290\n",
      "Epoch 9/10\n",
      "443757/443757 [==============================] - 24s 55us/step - loss: 2.9316 - sparse_categorical_accuracy: 0.3261 - val_loss: 2.7344 - val_sparse_categorical_accuracy: 0.3380\n",
      "Epoch 10/10\n",
      "443757/443757 [==============================] - 25s 55us/step - loss: 2.9320 - sparse_categorical_accuracy: 0.3267 - val_loss: 2.8251 - val_sparse_categorical_accuracy: 0.3520\n"
     ]
    }
   ],
   "source": [
    "history_d = model_d.fit([bow_q_train, im_train], y_train,\n",
    "                    batch_size=512,\n",
    "                    epochs=10,\n",
    "                    shuffle='batch',\n",
    "                    validation_data=([bow_q_val, im_val], y_val))"
   ]
  },
  {
   "cell_type": "code",
   "execution_count": 52,
   "metadata": {},
   "outputs": [],
   "source": [
    "# model_d.save('data/BoW_I.h5')\n",
    "model_d = keras.models.load_model('models/BoW_I.h5')"
   ]
  },
  {
   "cell_type": "code",
   "execution_count": 53,
   "metadata": {},
   "outputs": [
    {
     "name": "stdout",
     "output_type": "stream",
     "text": [
      "214354/214354 [==============================] - 11s 53us/step\n",
      "test loss, test acc: [2.9133546858667527, 0.3343394696712494]\n"
     ]
    }
   ],
   "source": [
    "results = model_d.evaluate([bow_q_test, im_test], y_test, batch_size=128)\n",
    "print('test loss, test acc:', results)"
   ]
  },
  {
   "cell_type": "code",
   "execution_count": 55,
   "metadata": {},
   "outputs": [
    {
     "name": "stdout",
     "output_type": "stream",
     "text": [
      "214354/214354 [==============================] - 20s 93us/step\n"
     ]
    }
   ],
   "source": [
    "predictions_d = model_d.predict([bow_q_test, im_test], verbose=1)\n",
    "\n",
    "predict_d = np.argmax(predictions_d, axis=1)\n",
    "np.savetxt('predictions/predict_d.dat', predict_d)"
   ]
  },
  {
   "cell_type": "code",
   "execution_count": 58,
   "metadata": {},
   "outputs": [
    {
     "name": "stdout",
     "output_type": "stream",
     "text": [
      "[0 0 0 ... 0 1 2]\n"
     ]
    }
   ],
   "source": [
    "print(predict_d)"
   ]
  },
  {
   "cell_type": "code",
   "execution_count": 106,
   "metadata": {},
   "outputs": [
    {
     "data": {
      "image/png": "[encoded data removed]",
      "text/plain": [
       "<Figure size 432x288 with 1 Axes>"
      ]
     },
     "metadata": {
      "needs_background": "light"
     },
     "output_type": "display_data"
    },
    {
     "data": {
      "image/png": "[encoded data removed]",
      "text/plain": [
       "<Figure size 432x288 with 1 Axes>"
      ]
     },
     "metadata": {
      "needs_background": "light"
     },
     "output_type": "display_data"
    }
   ],
   "source": [
    "# plot training & validation accuracy values\n",
    "plt.plot(history_d.history['sparse_categorical_accuracy'])\n",
    "plt.title('Model accuracy')\n",
    "plt.ylabel('Accuracy')\n",
    "plt.xlabel('Epoch')\n",
    "plt.legend(['Train', 'Test'], loc='upper left')\n",
    "plt.show()\n",
    "\n",
    "# plot training & validation loss values\n",
    "plt.plot(history_d.history['loss'])\n",
    "plt.plot(history_d.history['val_loss'])\n",
    "plt.title('Model loss')\n",
    "plt.ylabel('Loss')\n",
    "plt.xlabel('Epoch')\n",
    "plt.legend(['Train', 'Test'], loc='upper left')\n",
    "plt.show()"
   ]
  },
  {
   "cell_type": "markdown",
   "metadata": {},
   "source": [
    "## Improved model"
   ]
  },
  {
   "cell_type": "code",
   "execution_count": 5,
   "metadata": {},
   "outputs": [],
   "source": [
    "# define the tensors for the two inputs\n",
    "q_input_shape = (MAX_Q_LEN, WORD_EMBED_DIM)\n",
    "im_input_shape = (2048,)\n",
    "\n",
    "q_input = Input(q_input_shape)\n",
    "im_input = Input(im_input_shape)"
   ]
  },
  {
   "cell_type": "code",
   "execution_count": 6,
   "metadata": {},
   "outputs": [
    {
     "name": "stdout",
     "output_type": "stream",
     "text": [
      "Model: \"sequential_1\"\n",
      "_________________________________________________________________\n",
      "Layer (type)                 Output Shape              Param #   \n",
      "=================================================================\n",
      "lstm_1 (LSTM)                (None, 512)               1071104   \n",
      "_________________________________________________________________\n",
      "dropout_1 (Dropout)          (None, 512)               0         \n",
      "_________________________________________________________________\n",
      "dense_1 (Dense)              (None, 256)               131328    \n",
      "=================================================================\n",
      "Total params: 1,202,432\n",
      "Trainable params: 1,202,432\n",
      "Non-trainable params: 0\n",
      "_________________________________________________________________\n",
      "Model: \"sequential_2\"\n",
      "_________________________________________________________________\n",
      "Layer (type)                 Output Shape              Param #   \n",
      "=================================================================\n",
      "dense_2 (Dense)              (None, 512)               1049088   \n",
      "=================================================================\n",
      "Total params: 1,049,088\n",
      "Trainable params: 1,049,088\n",
      "Non-trainable params: 0\n",
      "_________________________________________________________________\n"
     ]
    },
    {
     "ename": "ValueError",
     "evalue": "Layer dense_3 was called with an input that isn't a symbolic tensor. Received type: <class 'keras.layers.core.Lambda'>. Full input: [<keras.layers.core.Lambda object at 0x7f8ea845a3d0>]. All inputs to the layer should be tensors.",
     "output_type": "error",
     "traceback": [
      "\u001b[0;31m---------------------------------------------------------------------------\u001b[0m",
      "\u001b[0;31mValueError\u001b[0m                                Traceback (most recent call last)",
      "\u001b[0;32m/opt/anaconda3/lib/python3.7/site-packages/keras/engine/base_layer.py\u001b[0m in \u001b[0;36massert_input_compatibility\u001b[0;34m(self, inputs)\u001b[0m\n\u001b[1;32m    309\u001b[0m             \u001b[0;32mtry\u001b[0m\u001b[0;34m:\u001b[0m\u001b[0;34m\u001b[0m\u001b[0;34m\u001b[0m\u001b[0m\n\u001b[0;32m--> 310\u001b[0;31m                 \u001b[0mK\u001b[0m\u001b[0;34m.\u001b[0m\u001b[0mis_keras_tensor\u001b[0m\u001b[0;34m(\u001b[0m\u001b[0mx\u001b[0m\u001b[0;34m)\u001b[0m\u001b[0;34m\u001b[0m\u001b[0;34m\u001b[0m\u001b[0m\n\u001b[0m\u001b[1;32m    311\u001b[0m             \u001b[0;32mexcept\u001b[0m \u001b[0mValueError\u001b[0m\u001b[0;34m:\u001b[0m\u001b[0;34m\u001b[0m\u001b[0;34m\u001b[0m\u001b[0m\n",
      "\u001b[0;32m/opt/anaconda3/lib/python3.7/site-packages/keras/backend/tensorflow_backend.py\u001b[0m in \u001b[0;36mis_keras_tensor\u001b[0;34m(x)\u001b[0m\n\u001b[1;32m    696\u001b[0m         raise ValueError('Unexpectedly found an instance of type `' +\n\u001b[0;32m--> 697\u001b[0;31m                          \u001b[0mstr\u001b[0m\u001b[0;34m(\u001b[0m\u001b[0mtype\u001b[0m\u001b[0;34m(\u001b[0m\u001b[0mx\u001b[0m\u001b[0;34m)\u001b[0m\u001b[0;34m)\u001b[0m \u001b[0;34m+\u001b[0m \u001b[0;34m'`. '\u001b[0m\u001b[0;34m\u001b[0m\u001b[0;34m\u001b[0m\u001b[0m\n\u001b[0m\u001b[1;32m    698\u001b[0m                          'Expected a symbolic tensor instance.')\n",
      "\u001b[0;31mValueError\u001b[0m: Unexpectedly found an instance of type `<class 'keras.layers.core.Lambda'>`. Expected a symbolic tensor instance.",
      "\nDuring handling of the above exception, another exception occurred:\n",
      "\u001b[0;31mValueError\u001b[0m                                Traceback (most recent call last)",
      "\u001b[0;32m<ipython-input-6-cbe6b115f185>\u001b[0m in \u001b[0;36m<module>\u001b[0;34m\u001b[0m\n\u001b[1;32m     29\u001b[0m merge_layer = Lambda((lambda tensors: tensors[0] @ tensors[1]), \n\u001b[1;32m     30\u001b[0m     output_shape = (256, 512))\n\u001b[0;32m---> 31\u001b[0;31m \u001b[0mdense\u001b[0m \u001b[0;34m=\u001b[0m \u001b[0mDense\u001b[0m\u001b[0;34m(\u001b[0m\u001b[0;36m1024\u001b[0m\u001b[0;34m,\u001b[0m \u001b[0mactivation\u001b[0m\u001b[0;34m=\u001b[0m\u001b[0;34m'relu'\u001b[0m\u001b[0;34m)\u001b[0m\u001b[0;34m(\u001b[0m\u001b[0mmerge_layer\u001b[0m\u001b[0;34m)\u001b[0m\u001b[0;34m\u001b[0m\u001b[0;34m\u001b[0m\u001b[0m\n\u001b[0m\u001b[1;32m     32\u001b[0m \u001b[0mdropout\u001b[0m \u001b[0;34m=\u001b[0m \u001b[0mDropout\u001b[0m\u001b[0;34m(\u001b[0m\u001b[0;36m0.2\u001b[0m\u001b[0;34m)\u001b[0m\u001b[0;34m(\u001b[0m\u001b[0mdense\u001b[0m\u001b[0;34m)\u001b[0m\u001b[0;34m\u001b[0m\u001b[0;34m\u001b[0m\u001b[0m\n\u001b[1;32m     33\u001b[0m \u001b[0mprediction\u001b[0m \u001b[0;34m=\u001b[0m \u001b[0mDense\u001b[0m\u001b[0;34m(\u001b[0m\u001b[0;36m1001\u001b[0m\u001b[0;34m,\u001b[0m \u001b[0mactivation\u001b[0m\u001b[0;34m=\u001b[0m\u001b[0;34m'softmax'\u001b[0m\u001b[0;34m)\u001b[0m\u001b[0;34m(\u001b[0m\u001b[0mdropout\u001b[0m\u001b[0;34m)\u001b[0m\u001b[0;34m\u001b[0m\u001b[0;34m\u001b[0m\u001b[0m\n",
      "\u001b[0;32m/opt/anaconda3/lib/python3.7/site-packages/keras/backend/tensorflow_backend.py\u001b[0m in \u001b[0;36msymbolic_fn_wrapper\u001b[0;34m(*args, **kwargs)\u001b[0m\n\u001b[1;32m     73\u001b[0m         \u001b[0;32mif\u001b[0m \u001b[0m_SYMBOLIC_SCOPE\u001b[0m\u001b[0;34m.\u001b[0m\u001b[0mvalue\u001b[0m\u001b[0;34m:\u001b[0m\u001b[0;34m\u001b[0m\u001b[0;34m\u001b[0m\u001b[0m\n\u001b[1;32m     74\u001b[0m             \u001b[0;32mwith\u001b[0m \u001b[0mget_graph\u001b[0m\u001b[0;34m(\u001b[0m\u001b[0;34m)\u001b[0m\u001b[0;34m.\u001b[0m\u001b[0mas_default\u001b[0m\u001b[0;34m(\u001b[0m\u001b[0;34m)\u001b[0m\u001b[0;34m:\u001b[0m\u001b[0;34m\u001b[0m\u001b[0;34m\u001b[0m\u001b[0m\n\u001b[0;32m---> 75\u001b[0;31m                 \u001b[0;32mreturn\u001b[0m \u001b[0mfunc\u001b[0m\u001b[0;34m(\u001b[0m\u001b[0;34m*\u001b[0m\u001b[0margs\u001b[0m\u001b[0;34m,\u001b[0m \u001b[0;34m**\u001b[0m\u001b[0mkwargs\u001b[0m\u001b[0;34m)\u001b[0m\u001b[0;34m\u001b[0m\u001b[0;34m\u001b[0m\u001b[0m\n\u001b[0m\u001b[1;32m     76\u001b[0m         \u001b[0;32melse\u001b[0m\u001b[0;34m:\u001b[0m\u001b[0;34m\u001b[0m\u001b[0;34m\u001b[0m\u001b[0m\n\u001b[1;32m     77\u001b[0m             \u001b[0;32mreturn\u001b[0m \u001b[0mfunc\u001b[0m\u001b[0;34m(\u001b[0m\u001b[0;34m*\u001b[0m\u001b[0margs\u001b[0m\u001b[0;34m,\u001b[0m \u001b[0;34m**\u001b[0m\u001b[0mkwargs\u001b[0m\u001b[0;34m)\u001b[0m\u001b[0;34m\u001b[0m\u001b[0;34m\u001b[0m\u001b[0m\n",
      "\u001b[0;32m/opt/anaconda3/lib/python3.7/site-packages/keras/engine/base_layer.py\u001b[0m in \u001b[0;36m__call__\u001b[0;34m(self, inputs, **kwargs)\u001b[0m\n\u001b[1;32m    444\u001b[0m                 \u001b[0;31m# Raise exceptions in case the input is not compatible\u001b[0m\u001b[0;34m\u001b[0m\u001b[0;34m\u001b[0m\u001b[0;34m\u001b[0m\u001b[0m\n\u001b[1;32m    445\u001b[0m                 \u001b[0;31m# with the input_spec specified in the layer constructor.\u001b[0m\u001b[0;34m\u001b[0m\u001b[0;34m\u001b[0m\u001b[0;34m\u001b[0m\u001b[0m\n\u001b[0;32m--> 446\u001b[0;31m                 \u001b[0mself\u001b[0m\u001b[0;34m.\u001b[0m\u001b[0massert_input_compatibility\u001b[0m\u001b[0;34m(\u001b[0m\u001b[0minputs\u001b[0m\u001b[0;34m)\u001b[0m\u001b[0;34m\u001b[0m\u001b[0;34m\u001b[0m\u001b[0m\n\u001b[0m\u001b[1;32m    447\u001b[0m \u001b[0;34m\u001b[0m\u001b[0m\n\u001b[1;32m    448\u001b[0m                 \u001b[0;31m# Collect input shapes to build layer.\u001b[0m\u001b[0;34m\u001b[0m\u001b[0;34m\u001b[0m\u001b[0;34m\u001b[0m\u001b[0m\n",
      "\u001b[0;32m/opt/anaconda3/lib/python3.7/site-packages/keras/engine/base_layer.py\u001b[0m in \u001b[0;36massert_input_compatibility\u001b[0;34m(self, inputs)\u001b[0m\n\u001b[1;32m    314\u001b[0m                                  \u001b[0;34m'Received type: '\u001b[0m \u001b[0;34m+\u001b[0m\u001b[0;34m\u001b[0m\u001b[0;34m\u001b[0m\u001b[0m\n\u001b[1;32m    315\u001b[0m                                  \u001b[0mstr\u001b[0m\u001b[0;34m(\u001b[0m\u001b[0mtype\u001b[0m\u001b[0;34m(\u001b[0m\u001b[0mx\u001b[0m\u001b[0;34m)\u001b[0m\u001b[0;34m)\u001b[0m \u001b[0;34m+\u001b[0m \u001b[0;34m'. Full input: '\u001b[0m \u001b[0;34m+\u001b[0m\u001b[0;34m\u001b[0m\u001b[0;34m\u001b[0m\u001b[0m\n\u001b[0;32m--> 316\u001b[0;31m                                  \u001b[0mstr\u001b[0m\u001b[0;34m(\u001b[0m\u001b[0minputs\u001b[0m\u001b[0;34m)\u001b[0m \u001b[0;34m+\u001b[0m \u001b[0;34m'. All inputs to the layer '\u001b[0m\u001b[0;34m\u001b[0m\u001b[0;34m\u001b[0m\u001b[0m\n\u001b[0m\u001b[1;32m    317\u001b[0m                                  'should be tensors.')\n\u001b[1;32m    318\u001b[0m \u001b[0;34m\u001b[0m\u001b[0m\n",
      "\u001b[0;31mValueError\u001b[0m: Layer dense_3 was called with an input that isn't a symbolic tensor. Received type: <class 'keras.layers.core.Lambda'>. Full input: [<keras.layers.core.Lambda object at 0x7f8ea845a3d0>]. All inputs to the layer should be tensors."
     ]
    }
   ],
   "source": [
    "# LSTM Q\n",
    "q_model = Sequential([\n",
    "  LSTM(512, input_shape=q_input_shape),\n",
    "  Dropout(0.2),\n",
    "  Dense(256, activation='tanh')\n",
    "])\n",
    "\n",
    "q_model.compile(loss='categorical_crossentropy', \n",
    "              optimizer='adam', \n",
    "              metrics=['categorical_accuracy'])\n",
    "q_model.summary()\n",
    "\n",
    "# I\n",
    "im_model = Sequential([\n",
    "  Dense(512, input_shape=im_input_shape, activation='relu')\n",
    "])\n",
    "\n",
    "im_model.compile(loss='categorical_crossentropy', \n",
    "              optimizer='adam', \n",
    "              metrics=['categorical_accuracy'])\n",
    "im_model.summary()\n",
    "\n",
    "# LSTM Q + I\n",
    "encoded_q = q_model(q_input) # encodings for the question and image\n",
    "encoded_im = im_model(im_input)\n",
    "    \n",
    "# add a customized layer to compute element-wise multiplication \n",
    "# between question and image vector\n",
    "merge_layer = Lambda((lambda tensors: tensors[0] @ tensors[1]), \n",
    "    output_shape = (256, 512))\n",
    "dense = Dense(1024, activation='relu')(merge_layer)\n",
    "dropout = Dropout(0.2)(dense)\n",
    "prediction = Dense(1001, activation='softmax')(dropout)\n",
    "\n",
    "RMSprop = keras.optimizers.RMSprop(learning_rate=0.001, rho=0.9)\n",
    "model_c = Model(inputs=[q_input, im_input], outputs=prediction)\n",
    "model_c.compile(optimizer=RMSprop,  # optimizer\n",
    "              loss=keras.losses.SparseCategoricalCrossentropy(),\n",
    "              metrics=['sparse_categorical_accuracy'])\n",
    "model_c.summary()"
   ]
  },
  {
   "cell_type": "code",
   "execution_count": 62,
   "metadata": {},
   "outputs": [],
   "source": [
    "hf_train.close()\n",
    "hf_test.close()"
   ]
  },
  {
   "cell_type": "code",
   "execution_count": null,
   "metadata": {},
   "outputs": [],
   "source": []
  }
 ],
 "metadata": {
  "kernelspec": {
   "display_name": "Python 3",
   "language": "python",
   "name": "python3"
  },
  "language_info": {
   "codemirror_mode": {
    "name": "ipython",
    "version": 3
   },
   "file_extension": ".py",
   "mimetype": "text/x-python",
   "name": "python",
   "nbconvert_exporter": "python",
   "pygments_lexer": "ipython3",
   "version": "3.7.4"
  }
 },
 "nbformat": 4,
 "nbformat_minor": 4
}
